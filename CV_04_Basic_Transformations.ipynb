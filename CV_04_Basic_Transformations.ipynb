{
 "cells": [
  {
   "cell_type": "markdown",
   "id": "02e8bbf5",
   "metadata": {},
   "source": [
    "## Basic Transformations on Images"
   ]
  },
  {
   "cell_type": "code",
   "execution_count": 1,
   "id": "d3d8c140",
   "metadata": {},
   "outputs": [],
   "source": [
    "import cv2 as cv\n",
    "import numpy as np"
   ]
  },
  {
   "cell_type": "code",
   "execution_count": 2,
   "id": "cb6a17cb",
   "metadata": {},
   "outputs": [],
   "source": [
    "# create a function to close image with d key\n",
    "def close_image():\n",
    "    # wait for a key event\n",
    "    while True:\n",
    "        key = cv.waitKey(0)\n",
    "\n",
    "        # if the key event is the 'd' key, break out of the loop\n",
    "        if key == ord('d'):\n",
    "            break\n",
    "\n",
    "    # close the window\n",
    "    cv.destroyAllWindows()"
   ]
  },
  {
   "cell_type": "markdown",
   "id": "7c24d98b",
   "metadata": {},
   "source": [
    "## Read an image"
   ]
  },
  {
   "cell_type": "code",
   "execution_count": 3,
   "id": "64f3f562",
   "metadata": {},
   "outputs": [],
   "source": [
    "img = cv.imread('images/virat_1.jpg')\n",
    "cv.imshow('virat', img)\n",
    "close_image()"
   ]
  },
  {
   "cell_type": "markdown",
   "id": "4de9111e",
   "metadata": {},
   "source": [
    "## Translation"
   ]
  },
  {
   "cell_type": "code",
   "execution_count": 4,
   "id": "d2dd9368",
   "metadata": {},
   "outputs": [],
   "source": [
    "# -x, -y, x, y\n",
    "def translate(img, x, y):\n",
    "    # no of pixels you want to shift along x-y axes\n",
    "    transMat = np.float32([[1,0,x], [0,1,y]])\n",
    "    dimensions = (img.shape[1], img.shape[0])\n",
    "    return cv.warpAffine(img, transMat, dimensions)"
   ]
  },
  {
   "cell_type": "code",
   "execution_count": 5,
   "id": "2544b847",
   "metadata": {},
   "outputs": [],
   "source": [
    "translated = translate(img, 300, 100)\n",
    "cv.imshow('translated', translated)\n",
    "close_image()"
   ]
  },
  {
   "cell_type": "markdown",
   "id": "4ceb50ec",
   "metadata": {},
   "source": [
    "## Rotation"
   ]
  },
  {
   "cell_type": "code",
   "execution_count": 6,
   "id": "c83ae52a",
   "metadata": {},
   "outputs": [],
   "source": [
    "# clockwise, anti-cliockwise\n",
    "def rotation(img, angle, rotPoint = None):\n",
    "    (height, width) = img.shape[:2]\n",
    "    \n",
    "    # rotate around the center\n",
    "    if rotPoint is None:\n",
    "        rotPoint = (width//2, height//2)\n",
    "    \n",
    "    rotMat = cv.getRotationMatrix2D(rotPoint, angle, 1)\n",
    "    dimensions = (width, height)\n",
    "    \n",
    "    return cv.warpAffine(img, rotMat, dimensions)"
   ]
  },
  {
   "cell_type": "code",
   "execution_count": 7,
   "id": "c8b0c691",
   "metadata": {},
   "outputs": [],
   "source": [
    "rotated = rotation(img, 45)\n",
    "cv.imshow('rotated', rotated)\n",
    "close_image()"
   ]
  },
  {
   "cell_type": "markdown",
   "id": "5334aa42",
   "metadata": {},
   "source": [
    "## Flip"
   ]
  },
  {
   "cell_type": "code",
   "execution_count": 8,
   "id": "466548a7",
   "metadata": {},
   "outputs": [],
   "source": [
    "# 0 - vertical\n",
    "# 1 - horizontal\n",
    "# -1 - both vertical & horizontal\n",
    "flip = cv.flip(img, 0)\n",
    "cv.imshow('flip', flip)\n",
    "close_image()"
   ]
  },
  {
   "cell_type": "code",
   "execution_count": null,
   "id": "c7d35948",
   "metadata": {},
   "outputs": [],
   "source": []
  }
 ],
 "metadata": {
  "hide_input": false,
  "kernelspec": {
   "display_name": "Python 3 (ipykernel)",
   "language": "python",
   "name": "python3"
  },
  "language_info": {
   "codemirror_mode": {
    "name": "ipython",
    "version": 3
   },
   "file_extension": ".py",
   "mimetype": "text/x-python",
   "name": "python",
   "nbconvert_exporter": "python",
   "pygments_lexer": "ipython3",
   "version": "3.9.7"
  }
 },
 "nbformat": 4,
 "nbformat_minor": 5
}

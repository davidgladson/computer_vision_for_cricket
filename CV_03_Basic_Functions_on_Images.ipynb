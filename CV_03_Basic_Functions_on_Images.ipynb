{
 "cells": [
  {
   "cell_type": "markdown",
   "id": "a85cf5ae",
   "metadata": {},
   "source": [
    "## Basic Functions on Images"
   ]
  },
  {
   "cell_type": "code",
   "execution_count": 1,
   "id": "b908ca50",
   "metadata": {},
   "outputs": [],
   "source": [
    "import cv2 as cv"
   ]
  },
  {
   "cell_type": "code",
   "execution_count": 2,
   "id": "aa59752f",
   "metadata": {},
   "outputs": [],
   "source": [
    "# create a function to close image with d key\n",
    "def close_image():\n",
    "    # wait for a key event\n",
    "    while True:\n",
    "        key = cv.waitKey(0)\n",
    "\n",
    "        # if the key event is the 'd' key, break out of the loop\n",
    "        if key == ord('d'):\n",
    "            break\n",
    "\n",
    "    # close the window\n",
    "    cv.destroyAllWindows()"
   ]
  },
  {
   "cell_type": "markdown",
   "id": "7ad16c6c",
   "metadata": {},
   "source": [
    "### Read an image"
   ]
  },
  {
   "cell_type": "code",
   "execution_count": 3,
   "id": "3918d97b",
   "metadata": {},
   "outputs": [],
   "source": [
    "# read an image\n",
    "img = cv.imread('images/virat_1.jpg')\n",
    "cv.imshow('Virat', img)\n",
    "close_image()"
   ]
  },
  {
   "cell_type": "markdown",
   "id": "f7fa4814",
   "metadata": {},
   "source": [
    "### Convert an image to greyscale"
   ]
  },
  {
   "cell_type": "code",
   "execution_count": 4,
   "id": "6db4b317",
   "metadata": {},
   "outputs": [],
   "source": [
    "# converting bgr to greyscale\n",
    "gray = cv.cvtColor(img, cv.COLOR_BGR2GRAY)\n",
    "cv.imshow('Gray', gray)\n",
    "close_image()"
   ]
  },
  {
   "cell_type": "markdown",
   "id": "b4f62a8d",
   "metadata": {},
   "source": [
    "### Blur an image"
   ]
  },
  {
   "cell_type": "code",
   "execution_count": 5,
   "id": "b639e0c4",
   "metadata": {},
   "outputs": [],
   "source": [
    "# blur an image\n",
    "# kernel size has to be an odd number\n",
    "blur = cv.GaussianBlur(img, (7,7), cv.BORDER_DEFAULT)\n",
    "cv.imshow('Blur', blur)\n",
    "close_image()"
   ]
  },
  {
   "cell_type": "markdown",
   "id": "bec11496",
   "metadata": {},
   "source": [
    "### Edge detection in image"
   ]
  },
  {
   "cell_type": "code",
   "execution_count": 6,
   "id": "74bba2e1",
   "metadata": {},
   "outputs": [],
   "source": [
    "# create an edge cascade - find the edges (ex: canny edge detection)\n",
    "# for edge detection - pass in blur to get less edges\n",
    "canny = cv.Canny(blur, 125,175)\n",
    "cv.imshow('Edges', canny)\n",
    "close_image()"
   ]
  },
  {
   "cell_type": "markdown",
   "id": "e22f4b9e",
   "metadata": {},
   "source": [
    "### Dilate an image"
   ]
  },
  {
   "cell_type": "code",
   "execution_count": 7,
   "id": "90e3c8a2",
   "metadata": {},
   "outputs": [],
   "source": [
    "# dilate an image\n",
    "dilated = cv.dilate(canny, (3,3), iterations = 2)\n",
    "cv.imshow('Diilated', dilated)\n",
    "close_image()"
   ]
  },
  {
   "cell_type": "markdown",
   "id": "5b8be49b",
   "metadata": {},
   "source": [
    "### Erode an image"
   ]
  },
  {
   "cell_type": "code",
   "execution_count": 8,
   "id": "55be0ef8",
   "metadata": {},
   "outputs": [],
   "source": [
    "# eroding\n",
    "eroded = cv.erode(dilated, (3,3), iterations = 2)\n",
    "cv.imshow('Eroded', eroded)\n",
    "close_image()"
   ]
  },
  {
   "cell_type": "markdown",
   "id": "c9f09ce4",
   "metadata": {},
   "source": [
    "### Resize an image"
   ]
  },
  {
   "cell_type": "code",
   "execution_count": 9,
   "id": "29b086ac",
   "metadata": {},
   "outputs": [],
   "source": [
    "# resize\n",
    "# ignores the aspect ratio\n",
    "resized = cv.resize(img, (500,500))\n",
    "# helps in clarity\n",
    "resized = cv.resize(img, (500,500), interpolation = cv.INTER_LINEAR)\n",
    "cv.imshow('Resized', resized)\n",
    "close_image()"
   ]
  },
  {
   "cell_type": "markdown",
   "id": "e65136ba",
   "metadata": {},
   "source": [
    "### Crop an image"
   ]
  },
  {
   "cell_type": "code",
   "execution_count": 10,
   "id": "91329c94",
   "metadata": {},
   "outputs": [],
   "source": [
    "# cropping\n",
    "cropped = img[100:1200,600:1300]\n",
    "cv.imshow('Cropped', cropped)\n",
    "close_image()"
   ]
  }
 ],
 "metadata": {
  "hide_input": false,
  "kernelspec": {
   "display_name": "Python 3 (ipykernel)",
   "language": "python",
   "name": "python3"
  },
  "language_info": {
   "codemirror_mode": {
    "name": "ipython",
    "version": 3
   },
   "file_extension": ".py",
   "mimetype": "text/x-python",
   "name": "python",
   "nbconvert_exporter": "python",
   "pygments_lexer": "ipython3",
   "version": "3.9.7"
  }
 },
 "nbformat": 4,
 "nbformat_minor": 5
}

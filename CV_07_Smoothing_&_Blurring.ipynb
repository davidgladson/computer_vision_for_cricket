{
 "cells": [
  {
   "cell_type": "markdown",
   "id": "d8db3b5c",
   "metadata": {},
   "source": [
    "## Smoothing and Blurring"
   ]
  },
  {
   "cell_type": "code",
   "execution_count": 1,
   "id": "5bacb3e2",
   "metadata": {},
   "outputs": [],
   "source": [
    "import cv2 as cv\n",
    "import numpy as np\n",
    "import matplotlib.pyplot as plt"
   ]
  },
  {
   "cell_type": "code",
   "execution_count": 2,
   "id": "d6839cce",
   "metadata": {},
   "outputs": [],
   "source": [
    "# create a function to close image with d key\n",
    "def close_image():\n",
    "    # wait for a key event\n",
    "    while True:\n",
    "        key = cv.waitKey(0)\n",
    "\n",
    "        # if the key event is the 'd' key, break out of the loop\n",
    "        if key == ord('d'):\n",
    "            break\n",
    "\n",
    "    # close the window\n",
    "    cv.destroyAllWindows()"
   ]
  },
  {
   "cell_type": "code",
   "execution_count": 3,
   "id": "934ed6e1",
   "metadata": {},
   "outputs": [],
   "source": [
    "img = cv.imread('images/virat_1.jpg')\n",
    "cv.imshow('Img', img)\n",
    "close_image()"
   ]
  },
  {
   "cell_type": "markdown",
   "id": "4cbe24c4",
   "metadata": {},
   "source": [
    "## Blur"
   ]
  },
  {
   "cell_type": "code",
   "execution_count": 4,
   "id": "dd95a407",
   "metadata": {},
   "outputs": [],
   "source": [
    "# blur an image\n",
    "# kernel size has to be an odd number\n",
    "blur = cv.GaussianBlur(img, (7,7), cv.BORDER_DEFAULT)\n",
    "cv.imshow('Blur', blur)\n",
    "close_image()"
   ]
  },
  {
   "cell_type": "markdown",
   "id": "0f61b9e8",
   "metadata": {},
   "source": [
    "## Averaging in Blur "
   ]
  },
  {
   "cell_type": "code",
   "execution_count": 5,
   "id": "7e744f3d",
   "metadata": {},
   "outputs": [],
   "source": [
    "# averaging\n",
    "avg = cv.blur(img, (3,3))\n",
    "cv.imshow('Avg', avg)\n",
    "close_image()"
   ]
  },
  {
   "cell_type": "markdown",
   "id": "a537d018",
   "metadata": {},
   "source": [
    "## Gaussian Blur"
   ]
  },
  {
   "cell_type": "code",
   "execution_count": 6,
   "id": "929cc161",
   "metadata": {},
   "outputs": [],
   "source": [
    "# Gaussian - more natural blur\n",
    "# assigns weights to the kernel pixels"
   ]
  },
  {
   "cell_type": "markdown",
   "id": "639230b6",
   "metadata": {},
   "source": [
    "## Using Median to reduce Noise"
   ]
  },
  {
   "cell_type": "code",
   "execution_count": 7,
   "id": "88ac72e6",
   "metadata": {},
   "outputs": [],
   "source": [
    "# median - reduces noise\n",
    "median = cv.medianBlur(img, 5)\n",
    "cv.imshow('Avg', median)\n",
    "close_image()"
   ]
  },
  {
   "cell_type": "markdown",
   "id": "22befa83",
   "metadata": {},
   "source": [
    "## Smudged version"
   ]
  },
  {
   "cell_type": "code",
   "execution_count": 8,
   "id": "aa43ad6d",
   "metadata": {},
   "outputs": [],
   "source": [
    "# bilateral\n",
    "# diameter, \n",
    "# smudged version\n",
    "bilateral = cv.bilateralFilter(img, 5, 30, 30)\n",
    "cv.imshow('bil', bilateral)\n",
    "close_image()"
   ]
  },
  {
   "cell_type": "code",
   "execution_count": null,
   "id": "23cbec46",
   "metadata": {},
   "outputs": [],
   "source": []
  }
 ],
 "metadata": {
  "hide_input": false,
  "kernelspec": {
   "display_name": "Python 3 (ipykernel)",
   "language": "python",
   "name": "python3"
  },
  "language_info": {
   "codemirror_mode": {
    "name": "ipython",
    "version": 3
   },
   "file_extension": ".py",
   "mimetype": "text/x-python",
   "name": "python",
   "nbconvert_exporter": "python",
   "pygments_lexer": "ipython3",
   "version": "3.9.7"
  }
 },
 "nbformat": 4,
 "nbformat_minor": 5
}

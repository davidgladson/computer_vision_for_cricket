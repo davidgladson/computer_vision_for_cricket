{
 "cells": [
  {
   "cell_type": "markdown",
   "id": "82815579",
   "metadata": {},
   "source": [
    "## Draw shapes & Write Text"
   ]
  },
  {
   "cell_type": "code",
   "execution_count": 1,
   "id": "9b3b055c",
   "metadata": {},
   "outputs": [],
   "source": [
    "# import \n",
    "import cv2 as cv\n",
    "import numpy as np"
   ]
  },
  {
   "cell_type": "markdown",
   "id": "3d1109e0",
   "metadata": {},
   "source": [
    "## Write on an image"
   ]
  },
  {
   "cell_type": "code",
   "execution_count": 2,
   "id": "f89eb4ac",
   "metadata": {},
   "outputs": [],
   "source": [
    "# read image\n",
    "img = cv.imread('images/virat_1.jpg')\n",
    "\n",
    "# write text\n",
    "# here (255, 255) indicates the text starting point, (0,0,0) indicates black\n",
    "cv.putText(img, \"Virat Kohli\", (225, 255), cv.FONT_HERSHEY_SIMPLEX, 3, (255,255,255), thickness = 2)\n",
    "\n",
    "cv.imshow('Virat with text', img)\n",
    "\n",
    "# wait for a key press\n",
    "while True:\n",
    "    key = cv.waitKey(0)\n",
    "\n",
    "    # press 'd' key, to close the window\n",
    "    if key == ord('d'):\n",
    "        break\n",
    "\n",
    "# close the window\n",
    "cv.destroyAllWindows()"
   ]
  },
  {
   "cell_type": "markdown",
   "id": "96a9f614",
   "metadata": {},
   "source": [
    "## Draw on a blank image"
   ]
  },
  {
   "cell_type": "code",
   "execution_count": 3,
   "id": "172ff6ed",
   "metadata": {},
   "outputs": [],
   "source": [
    "# height width, color\n",
    "# create a blank image with height as 500, width as 500, color as 3 channels (RGB)\n",
    "# here uint - unsigned integer which takes less memory space\n",
    "blank = np.zeros((500, 500, 3),dtype = 'uint8')\n",
    "\n",
    "# paint the image with a color - blue\n",
    "blank[:] = 0,0,255\n",
    "\n",
    "# color a certain portion - height in between 200 to 300\n",
    "# fill with green\n",
    "blank[200:300, :] = 0,255,0\n",
    "\n",
    "# draw a recangle\n",
    "# here thickness indicates border thickness\n",
    "cv.rectangle(blank, (0,0), (250, 250), (255, 0, 0), thickness = 2)\n",
    "\n",
    "# fill a rectangle - start, end coordinates\n",
    "# if thickness is -1, then no border\n",
    "cv.rectangle(blank, (0,0), (250, 250), (255, 0, 0), thickness = -1)\n",
    "\n",
    "# draw a circle - center & radius\n",
    "cv.circle(blank, (250, 250), 40, (0,255,234), thickness = -1)\n",
    "\n",
    "# draw a line - start, end points\n",
    "cv.line(blank, (0,0), (10, 10), (0,255,0), thickness = 3)\n",
    "\n",
    "# write text\n",
    "# here (255, 255) indicates the text starting point, (0,0,0) indicates black\n",
    "cv.putText(blank, \"Hello\", (225, 255), cv.FONT_HERSHEY_SIMPLEX, 1, (0,0,0), thickness = 2)\n",
    "\n",
    "cv.imshow('Blank', blank)\n",
    "\n",
    "# wait for a key press\n",
    "while True:\n",
    "    key = cv.waitKey(0)\n",
    "\n",
    "    # press 'd' key, to close the window\n",
    "    if key == ord('d'):\n",
    "        break\n",
    "\n",
    "# close the window\n",
    "cv.destroyAllWindows()"
   ]
  },
  {
   "cell_type": "code",
   "execution_count": null,
   "id": "5089f05b",
   "metadata": {},
   "outputs": [],
   "source": []
  }
 ],
 "metadata": {
  "hide_input": false,
  "kernelspec": {
   "display_name": "Python 3 (ipykernel)",
   "language": "python",
   "name": "python3"
  },
  "language_info": {
   "codemirror_mode": {
    "name": "ipython",
    "version": 3
   },
   "file_extension": ".py",
   "mimetype": "text/x-python",
   "name": "python",
   "nbconvert_exporter": "python",
   "pygments_lexer": "ipython3",
   "version": "3.9.7"
  }
 },
 "nbformat": 4,
 "nbformat_minor": 5
}

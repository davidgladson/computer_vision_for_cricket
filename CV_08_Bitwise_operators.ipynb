{
 "cells": [
  {
   "cell_type": "markdown",
   "id": "0936a292",
   "metadata": {},
   "source": [
    "## Bitwise Operations"
   ]
  },
  {
   "cell_type": "code",
   "execution_count": 1,
   "id": "2bd4c072",
   "metadata": {},
   "outputs": [],
   "source": [
    "import cv2 as cv\n",
    "import numpy as np\n",
    "import matplotlib.pyplot as plt"
   ]
  },
  {
   "cell_type": "code",
   "execution_count": 2,
   "id": "2f0f5c8a",
   "metadata": {},
   "outputs": [],
   "source": [
    "# create a function to close image with d key\n",
    "def close_image():\n",
    "    # wait for a key event\n",
    "    while True:\n",
    "        key = cv.waitKey(0)\n",
    "\n",
    "        # if the key event is the 'd' key, break out of the loop\n",
    "        if key == ord('d'):\n",
    "            break\n",
    "\n",
    "    # close the window\n",
    "    cv.destroyAllWindows()"
   ]
  },
  {
   "cell_type": "markdown",
   "id": "4103fa6d",
   "metadata": {},
   "source": [
    "## Read an image"
   ]
  },
  {
   "cell_type": "code",
   "execution_count": 3,
   "id": "cbf82423",
   "metadata": {},
   "outputs": [],
   "source": [
    "img = cv.imread('images/virat_1.jpg')\n",
    "cv.imshow('Img', img)\n",
    "close_image()"
   ]
  },
  {
   "cell_type": "markdown",
   "id": "895a27a9",
   "metadata": {},
   "source": [
    "## Create an array"
   ]
  },
  {
   "cell_type": "code",
   "execution_count": 4,
   "id": "8d81d5a0",
   "metadata": {},
   "outputs": [],
   "source": [
    "# bitwise operates in a binary manner\n",
    "blank = np.zeros((400, 400), dtype = 'uint8')"
   ]
  },
  {
   "cell_type": "markdown",
   "id": "dc6c623a",
   "metadata": {},
   "source": [
    "## Create a Rectangle & Circle"
   ]
  },
  {
   "cell_type": "code",
   "execution_count": 5,
   "id": "48eefa37",
   "metadata": {},
   "outputs": [],
   "source": [
    "rec = cv.rectangle(blank.copy(), (30, 30), (370, 370), 255, -1)\n",
    "cir = cv.circle(blank.copy(), (200, 200), 200, 255, -1)\n",
    "\n",
    "cv.imshow('rec', rec)\n",
    "close_image()\n",
    "\n",
    "cv.imshow('cir', cir)\n",
    "close_image()"
   ]
  },
  {
   "cell_type": "markdown",
   "id": "569b73af",
   "metadata": {},
   "source": [
    "## Perform - AND, OR, NOT, XOR"
   ]
  },
  {
   "cell_type": "code",
   "execution_count": 6,
   "id": "6b4aa7fc",
   "metadata": {},
   "outputs": [],
   "source": [
    "# AND, OR, NOT, XOR\n",
    "\n",
    "# intersecting\n",
    "biw_and = cv.bitwise_and(rec, cir)\n",
    "\n",
    "# non-intersecting & intersecting regions\n",
    "biw_or = cv.bitwise_or(rec, cir)\n",
    "\n",
    "# flip bits\n",
    "biw_not = cv.bitwise_not(rec, cir)\n",
    "\n",
    "# non intersecting regions\n",
    "biw_xor = cv.bitwise_xor(rec, cir)"
   ]
  },
  {
   "cell_type": "markdown",
   "id": "6be96a2b",
   "metadata": {},
   "source": [
    "## View the results"
   ]
  },
  {
   "cell_type": "code",
   "execution_count": 7,
   "id": "8dd1b802",
   "metadata": {},
   "outputs": [],
   "source": [
    "cv.imshow('and', biw_and)\n",
    "close_image()\n",
    "\n",
    "cv.imshow('or', biw_or)\n",
    "close_image()\n",
    "\n",
    "cv.imshow('not', biw_not)\n",
    "close_image()\n",
    "\n",
    "cv.imshow('xor', biw_xor)\n",
    "close_image()"
   ]
  },
  {
   "cell_type": "code",
   "execution_count": null,
   "id": "42d4bdf9",
   "metadata": {},
   "outputs": [],
   "source": []
  }
 ],
 "metadata": {
  "hide_input": false,
  "kernelspec": {
   "display_name": "Python 3 (ipykernel)",
   "language": "python",
   "name": "python3"
  },
  "language_info": {
   "codemirror_mode": {
    "name": "ipython",
    "version": 3
   },
   "file_extension": ".py",
   "mimetype": "text/x-python",
   "name": "python",
   "nbconvert_exporter": "python",
   "pygments_lexer": "ipython3",
   "version": "3.9.7"
  }
 },
 "nbformat": 4,
 "nbformat_minor": 5
}

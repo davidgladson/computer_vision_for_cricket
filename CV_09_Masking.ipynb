{
 "cells": [
  {
   "cell_type": "markdown",
   "id": "e88ce757",
   "metadata": {},
   "source": [
    "## Create Masks"
   ]
  },
  {
   "cell_type": "code",
   "execution_count": 1,
   "id": "2bd4c072",
   "metadata": {},
   "outputs": [],
   "source": [
    "import cv2 as cv\n",
    "import numpy as np\n",
    "import matplotlib.pyplot as plt"
   ]
  },
  {
   "cell_type": "code",
   "execution_count": 2,
   "id": "92b6fcb2",
   "metadata": {},
   "outputs": [],
   "source": [
    "# create a function to close image with d key\n",
    "def close_image():\n",
    "    # wait for a key event\n",
    "    while True:\n",
    "        key = cv.waitKey(0)\n",
    "\n",
    "        # if the key event is the 'd' key, break out of the loop\n",
    "        if key == ord('d'):\n",
    "            break\n",
    "\n",
    "    # close the window\n",
    "    cv.destroyAllWindows()"
   ]
  },
  {
   "cell_type": "markdown",
   "id": "7f8b2d04",
   "metadata": {},
   "source": [
    "## Read an image"
   ]
  },
  {
   "cell_type": "code",
   "execution_count": 3,
   "id": "cbf82423",
   "metadata": {},
   "outputs": [],
   "source": [
    "img = cv.imread('images/virat_1.jpg')\n",
    "cv.imshow('Img', img)\n",
    "close_image()"
   ]
  },
  {
   "cell_type": "markdown",
   "id": "a4254f15",
   "metadata": {},
   "source": [
    "## Create an array to store mask"
   ]
  },
  {
   "cell_type": "code",
   "execution_count": 4,
   "id": "635ec46a",
   "metadata": {},
   "outputs": [],
   "source": [
    "blank = np.zeros(img.shape[:2], dtype = 'uint8')\n",
    "cv.imshow('Blank image', blank)\n",
    "close_image()\n",
    "\n",
    "mask = cv.circle(blank, (img.shape[1]//2, img.shape[0]//2), 100, 255, -1)\n",
    "cv.imshow('mask', mask)\n",
    "close_image()"
   ]
  },
  {
   "cell_type": "markdown",
   "id": "6227117b",
   "metadata": {},
   "source": [
    "## Apply Mask"
   ]
  },
  {
   "cell_type": "code",
   "execution_count": 5,
   "id": "5bda52c2",
   "metadata": {},
   "outputs": [],
   "source": [
    "masked = cv.bitwise_and(img, img, mask=mask)\n",
    "cv.imshow('masked', masked)\n",
    "close_image()"
   ]
  },
  {
   "cell_type": "code",
   "execution_count": 6,
   "id": "a214ac10",
   "metadata": {},
   "outputs": [
    {
     "data": {
      "image/png": "[encoded data removed]",
      "text/plain": [
       "<Figure size 432x288 with 1 Axes>"
      ]
     },
     "metadata": {
      "needs_background": "light"
     },
     "output_type": "display_data"
    }
   ],
   "source": [
    "plt.imshow(masked)\n",
    "plt.show()"
   ]
  },
  {
   "cell_type": "code",
   "execution_count": null,
   "id": "c5384feb",
   "metadata": {},
   "outputs": [],
   "source": []
  }
 ],
 "metadata": {
  "hide_input": false,
  "kernelspec": {
   "display_name": "Python 3 (ipykernel)",
   "language": "python",
   "name": "python3"
  },
  "language_info": {
   "codemirror_mode": {
    "name": "ipython",
    "version": 3
   },
   "file_extension": ".py",
   "mimetype": "text/x-python",
   "name": "python",
   "nbconvert_exporter": "python",
   "pygments_lexer": "ipython3",
   "version": "3.9.7"
  }
 },
 "nbformat": 4,
 "nbformat_minor": 5
}

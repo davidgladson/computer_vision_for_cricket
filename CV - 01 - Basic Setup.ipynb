{
 "cells": [
  {
   "cell_type": "markdown",
   "id": "94ddd615",
   "metadata": {},
   "source": [
    "## Installations"
   ]
  },
  {
   "cell_type": "code",
   "execution_count": 1,
   "id": "88fba290",
   "metadata": {},
   "outputs": [],
   "source": [
    "# !pip install opencv-python"
   ]
  },
  {
   "cell_type": "markdown",
   "id": "9c609731",
   "metadata": {},
   "source": [
    "## Resources"
   ]
  },
  {
   "cell_type": "markdown",
   "id": "97b54a3d",
   "metadata": {},
   "source": [
    "- https://github.com/jasmcaus/opencv-course.git\n",
    "- https://docs.opencv.org/4.x/d9/df8/tutorial_root.html"
   ]
  },
  {
   "cell_type": "markdown",
   "id": "7f8ee6ac",
   "metadata": {},
   "source": [
    "## Reading Images"
   ]
  },
  {
   "cell_type": "code",
   "execution_count": 2,
   "id": "b6f0e727",
   "metadata": {},
   "outputs": [],
   "source": [
    "import cv2 as cv"
   ]
  },
  {
   "cell_type": "code",
   "execution_count": 3,
   "id": "2dc2336d",
   "metadata": {},
   "outputs": [],
   "source": [
    "# read an image\n",
    "img = cv.imread('images/virat_1.jpg')\n",
    "cv.imshow('Virat', img)\n",
    "\n",
    "# wait for a key event\n",
    "while True:\n",
    "    key = cv.waitKey(0)\n",
    "\n",
    "    # if the key event is the 'd' key, break out of the loop\n",
    "    if key == ord('d'):\n",
    "        break\n",
    "\n",
    "# close the window\n",
    "cv.destroyAllWindows()"
   ]
  },
  {
   "cell_type": "markdown",
   "id": "659f80fd",
   "metadata": {},
   "source": [
    "## Reading Videos"
   ]
  },
  {
   "cell_type": "code",
   "execution_count": 4,
   "id": "76d5d5b2",
   "metadata": {},
   "outputs": [],
   "source": [
    "# 0- webcam, 1 - 2nd cam\n",
    "# press d to exit the video\n",
    "capture = cv.VideoCapture(\"videos/dk_last_ball.wmv\")\n",
    "\n",
    "while True:\n",
    "    # a boolean to say whether the frame is read or not\n",
    "    isTrue, frame = capture.read()\n",
    "    cv.imshow('Video', frame)\n",
    "    \n",
    "    # if the letter d is pressed, break out of the loop\n",
    "    if cv.waitKey(25) & 0xFF == ord('d'):\n",
    "        break\n",
    "        \n",
    "capture.release()\n",
    "cv.destroyAllWindows()"
   ]
  },
  {
   "cell_type": "code",
   "execution_count": 5,
   "id": "ff01adc9",
   "metadata": {},
   "outputs": [],
   "source": [
    "# error: OpenCV(4.5.4) D:\\a\\opencv-python\\opencv-python\\opencv\\modules\\imgproc\\src\\color.cpp:182: error: (-215:Assertion failed) !_src.empty() in function 'cv::cvtColor'\n",
    "# in case of the above error - no frames left to read"
   ]
  },
  {
   "cell_type": "markdown",
   "id": "d48e7e63",
   "metadata": {},
   "source": [
    "## Rescale & Resize - Image & Video files"
   ]
  },
  {
   "cell_type": "code",
   "execution_count": 6,
   "id": "7bb78f9e",
   "metadata": {},
   "outputs": [],
   "source": [
    "def rescaleFrame(frame, scale = 0.75):\n",
    "    # images, videos & live video\n",
    "    width = int(frame.shape[1]*scale)\n",
    "    height = int(frame.shape[0]*scale)\n",
    "    dimensions = (width, height)\n",
    "    \n",
    "    return cv.resize(frame, dimensions, interpolation = cv.INTER_AREA)"
   ]
  },
  {
   "cell_type": "code",
   "execution_count": 7,
   "id": "e5d86ab5",
   "metadata": {},
   "outputs": [],
   "source": [
    "capture = cv.VideoCapture(\"videos/dk_last_ball.wmv\")\n",
    "\n",
    "while True:\n",
    "    # a boolean to say whether the frame is read or not\n",
    "    isTrue, frame = capture.read()\n",
    "    frame_resized = rescaleFrame(frame, 0.5)\n",
    "    \n",
    "    cv.imshow('Video', frame_resized)\n",
    "    \n",
    "    # if the letter d is pressed, break out of the loop\n",
    "    if cv.waitKey(25) & 0xFF == ord('d'):\n",
    "        break\n",
    "        \n",
    "capture.release()\n",
    "cv.destroyAllWindows()"
   ]
  },
  {
   "cell_type": "code",
   "execution_count": 8,
   "id": "b0d5de42",
   "metadata": {},
   "outputs": [],
   "source": [
    "img = cv.imread('images/virat_1.jpg')\n",
    "resized_image = rescaleFrame(img)\n",
    "\n",
    "img = cv.imshow('Image rescaled', resized_image)\n",
    "\n",
    "# wait for a key event\n",
    "while True:\n",
    "    key = cv.waitKey(0)\n",
    "\n",
    "    # if the key event is the 'd' key, break out of the loop\n",
    "    if key == ord('d'):\n",
    "        break\n",
    "\n",
    "# close the window\n",
    "cv.destroyAllWindows()"
   ]
  },
  {
   "cell_type": "code",
   "execution_count": null,
   "id": "719efa9e",
   "metadata": {},
   "outputs": [],
   "source": []
  },
  {
   "cell_type": "code",
   "execution_count": null,
   "id": "bd239fc5",
   "metadata": {},
   "outputs": [],
   "source": []
  }
 ],
 "metadata": {
  "hide_input": false,
  "kernelspec": {
   "display_name": "Python 3 (ipykernel)",
   "language": "python",
   "name": "python3"
  },
  "language_info": {
   "codemirror_mode": {
    "name": "ipython",
    "version": 3
   },
   "file_extension": ".py",
   "mimetype": "text/x-python",
   "name": "python",
   "nbconvert_exporter": "python",
   "pygments_lexer": "ipython3",
   "version": "3.9.7"
  }
 },
 "nbformat": 4,
 "nbformat_minor": 5
}

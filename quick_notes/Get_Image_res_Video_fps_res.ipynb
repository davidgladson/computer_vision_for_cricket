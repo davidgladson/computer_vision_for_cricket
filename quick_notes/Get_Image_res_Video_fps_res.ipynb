{
 "cells": [
  {
   "cell_type": "markdown",
   "id": "40a109b9",
   "metadata": {},
   "source": [
    "## Video details"
   ]
  },
  {
   "cell_type": "code",
   "execution_count": 1,
   "id": "9c675402",
   "metadata": {},
   "outputs": [
    {
     "name": "stdout",
     "output_type": "stream",
     "text": [
      "Frame rate: 30.03 fps\n",
      "Resolution: 2160 x 1080 pixels\n"
     ]
    }
   ],
   "source": [
    "import cv2\n",
    "\n",
    "video_path = 'videos/side_angle_sample.mp4'\n",
    "cap = cv2.VideoCapture(video_path)\n",
    "\n",
    "if not cap.isOpened():\n",
    "    print('Error opening video file')\n",
    "\n",
    "frame_rate = cap.get(cv2.CAP_PROP_FPS)\n",
    "resolution = (int(cap.get(cv2.CAP_PROP_FRAME_WIDTH)), int(cap.get(cv2.CAP_PROP_FRAME_HEIGHT)))\n",
    "\n",
    "print(f'Frame rate: {frame_rate:.2f} fps')\n",
    "print(f'Resolution: {resolution[0]} x {resolution[1]} pixels')\n",
    "\n",
    "cap.release()\n",
    "cv2.destroyAllWindows()\n"
   ]
  },
  {
   "cell_type": "markdown",
   "id": "2bfc32da",
   "metadata": {},
   "source": [
    "## Image details"
   ]
  },
  {
   "cell_type": "code",
   "execution_count": 2,
   "id": "7baf32c6",
   "metadata": {},
   "outputs": [
    {
     "name": "stdout",
     "output_type": "stream",
     "text": [
      "Resolution: 1656 x 1080 pixels\n"
     ]
    }
   ],
   "source": [
    "import cv2\n",
    "\n",
    "image_path = 'images/virat_1.jpg'\n",
    "image = cv2.imread(image_path)\n",
    "\n",
    "if image is None:\n",
    "    print('Error opening image file')\n",
    "\n",
    "resolution = (image.shape[1], image.shape[0])\n",
    "\n",
    "print(f'Resolution: {resolution[0]} x {resolution[1]} pixels')\n"
   ]
  }
 ],
 "metadata": {
  "hide_input": false,
  "kernelspec": {
   "display_name": "Python 3 (ipykernel)",
   "language": "python",
   "name": "python3"
  },
  "language_info": {
   "codemirror_mode": {
    "name": "ipython",
    "version": 3
   },
   "file_extension": ".py",
   "mimetype": "text/x-python",
   "name": "python",
   "nbconvert_exporter": "python",
   "pygments_lexer": "ipython3",
   "version": "3.9.7"
  }
 },
 "nbformat": 4,
 "nbformat_minor": 5
}

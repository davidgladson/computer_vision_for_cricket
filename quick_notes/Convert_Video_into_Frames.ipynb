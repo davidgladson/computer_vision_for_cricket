{
 "cells": [
  {
   "cell_type": "code",
   "execution_count": 1,
   "id": "90f7ab96",
   "metadata": {},
   "outputs": [],
   "source": [
    "import cv2 as cv\n",
    "import os\n",
    "\n",
    "video_path = 'videos/side_angle_sample.mp4'\n",
    "cap = cv.VideoCapture(video_path)\n",
    "\n",
    "if not cap.isOpened():\n",
    "    print('Error opening video file')\n",
    "\n",
    "output_dir = 'frames'\n",
    "if not os.path.exists(output_dir):\n",
    "    os.makedirs(output_dir)\n",
    "\n",
    "frame_count = 0\n",
    "\n",
    "while True:\n",
    "    ret, frame = cap.read()\n",
    "\n",
    "    if not ret:\n",
    "        break\n",
    "\n",
    "    frame_count += 1\n",
    "    output_path = os.path.join(output_dir, f'frame_{frame_count:04}.jpg')\n",
    "    cv.imwrite(output_path, frame)\n",
    "\n",
    "cap.release()\n",
    "cv.destroyAllWindows()\n"
   ]
  },
  {
   "cell_type": "code",
   "execution_count": null,
   "id": "991ac006",
   "metadata": {},
   "outputs": [],
   "source": []
  }
 ],
 "metadata": {
  "hide_input": false,
  "kernelspec": {
   "display_name": "Python 3 (ipykernel)",
   "language": "python",
   "name": "python3"
  },
  "language_info": {
   "codemirror_mode": {
    "name": "ipython",
    "version": 3
   },
   "file_extension": ".py",
   "mimetype": "text/x-python",
   "name": "python",
   "nbconvert_exporter": "python",
   "pygments_lexer": "ipython3",
   "version": "3.9.7"
  }
 },
 "nbformat": 4,
 "nbformat_minor": 5
}

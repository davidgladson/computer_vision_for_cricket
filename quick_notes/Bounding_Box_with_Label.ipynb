{
 "cells": [
  {
   "cell_type": "code",
   "execution_count": 1,
   "id": "4afedae1",
   "metadata": {},
   "outputs": [],
   "source": [
    "import cv2 as cv\n",
    "import matplotlib.pyplot as plt"
   ]
  },
  {
   "cell_type": "code",
   "execution_count": 2,
   "id": "94c8c191",
   "metadata": {},
   "outputs": [],
   "source": [
    "# create a function to close image with d key\n",
    "def close_image():\n",
    "    # wait for a key event\n",
    "    while True:\n",
    "        key = cv.waitKey(0)\n",
    "\n",
    "        # if the key event is the 'd' key, break out of the loop\n",
    "        if key == ord('d'):\n",
    "            break\n",
    "\n",
    "    # close the window\n",
    "    cv.destroyAllWindows()"
   ]
  },
  {
   "cell_type": "code",
   "execution_count": 3,
   "id": "13ff5b5e",
   "metadata": {},
   "outputs": [],
   "source": [
    "# read image\n",
    "image = cv.imread('images/virat_1.jpg')\n",
    "output = image.copy()\n",
    "\n",
    "# starting points of the box\n",
    "x = 800\n",
    "y = 200\n",
    "\n",
    "# dimensions of the box\n",
    "width = 400\n",
    "height = 850\n",
    "\n",
    "# draw & assign label\n",
    "bbox = (x, y, width, height)\n",
    "label = 'virat kohli'\n",
    "cv.rectangle(output, (x, y), (x + width, y + height), (0, 255, 0), 2)\n",
    "cv.putText(output, label, (x, y - 10), cv.FONT_HERSHEY_SIMPLEX, 0.5, (0, 255, 0), 2)\n",
    "\n",
    "# output\n",
    "cv.imshow('Img', output)\n",
    "close_image()"
   ]
  },
  {
   "cell_type": "code",
   "execution_count": 4,
   "id": "b4353608",
   "metadata": {},
   "outputs": [],
   "source": [
    "# # show image in matplotlib\n",
    "# plt.imshow(output)\n",
    "# plt.show()"
   ]
  }
 ],
 "metadata": {
  "hide_input": false,
  "kernelspec": {
   "display_name": "Python 3 (ipykernel)",
   "language": "python",
   "name": "python3"
  },
  "language_info": {
   "codemirror_mode": {
    "name": "ipython",
    "version": 3
   },
   "file_extension": ".py",
   "mimetype": "text/x-python",
   "name": "python",
   "nbconvert_exporter": "python",
   "pygments_lexer": "ipython3",
   "version": "3.9.7"
  }
 },
 "nbformat": 4,
 "nbformat_minor": 5
}

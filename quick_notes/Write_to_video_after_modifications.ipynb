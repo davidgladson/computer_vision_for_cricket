{
 "cells": [
  {
   "cell_type": "code",
   "execution_count": 1,
   "id": "b5087fcc",
   "metadata": {},
   "outputs": [],
   "source": [
    "import cv2 as cv\n",
    "import numpy as np\n",
    "import matplotlib.pyplot as plt"
   ]
  },
  {
   "cell_type": "code",
   "execution_count": 2,
   "id": "ee102bd7",
   "metadata": {},
   "outputs": [],
   "source": [
    "# create a function to close image with d key\n",
    "def close_image():\n",
    "    # wait for a key event\n",
    "    while True:\n",
    "        key = cv.waitKey(0)\n",
    "\n",
    "        # if the key event is the 'd' key, break out of the loop\n",
    "        if key == ord('d'):\n",
    "            break\n",
    "\n",
    "    # close the window\n",
    "    cv.destroyAllWindows()"
   ]
  },
  {
   "cell_type": "code",
   "execution_count": 3,
   "id": "b04d0443",
   "metadata": {},
   "outputs": [],
   "source": [
    "# fit image to screen size\n",
    "def fit_image(img):\n",
    "    # Get screen resolution\n",
    "    screen_width, screen_height = 1920, 1080  # Replace with your screen resolution\n",
    "    window_size = min(screen_width, screen_height)\n",
    "\n",
    "    # Resize image to fit window\n",
    "    img_height, img_width, _ = img.shape\n",
    "    scale = window_size / max(img_height, img_width)\n",
    "    resized_img = cv.resize(img, None, fx=scale, fy=scale)\n",
    "    \n",
    "    return resized_img"
   ]
  },
  {
   "cell_type": "code",
   "execution_count": 4,
   "id": "a58f6e3a",
   "metadata": {},
   "outputs": [],
   "source": [
    "video_path = 'videos/side_angle_sample.mp4'\n",
    "cap = cv.VideoCapture(video_path)\n",
    "\n",
    "frame_rate = cap.get(cv.CAP_PROP_FPS)\n",
    "width, height = int(cap.get(cv.CAP_PROP_FRAME_WIDTH)), int(cap.get(cv.CAP_PROP_FRAME_HEIGHT))\n",
    "\n",
    "# Create a video writer object\n",
    "fourcc = cv.VideoWriter_fourcc(*'mp4v')  # Change the codec as needed\n",
    "out = cv.VideoWriter('videos/output.mp4', fourcc, 30, (width, height))\n",
    "\n",
    "if not cap.isOpened():\n",
    "    print('Error opening video file')\n",
    "\n",
    "\n",
    "frame_count = 0\n",
    "\n",
    "while True:\n",
    "    ret, img = cap.read()\n",
    "    if not ret:\n",
    "        break\n",
    "        \n",
    "    start_point = (2000, 240)\n",
    "    end_point1 = (2000, 690)\n",
    "    end_point2 = (1590, 0)\n",
    "    end_point3 = (1600, 270)\n",
    "    end_point4 = (625, 1100)\n",
    "    end_point5 = (500, 0)\n",
    "    end_point6 = (1600, 640)\n",
    "    end_point7 = (0, 800)\n",
    "\n",
    "    line_thickness = 10\n",
    "    line_color_c = (0,255,0)\n",
    "\n",
    "    cv.line(img, start_point, end_point1, line_color_c, line_thickness)\n",
    "    cv.line(img, start_point, end_point2, line_color_c, line_thickness)\n",
    "    cv.line(img, start_point, end_point3, line_color_c, line_thickness)\n",
    "    cv.line(img, end_point1, end_point4, line_color_c, line_thickness)\n",
    "    cv.line(img, end_point3, end_point5, line_color_c, line_thickness)\n",
    "    cv.line(img, end_point3, end_point6, line_color_c, line_thickness)\n",
    "    cv.line(img, end_point6, end_point7, line_color_c, line_thickness)\n",
    "    cv.line(img, end_point6, end_point1, line_color_c, line_thickness)\n",
    "\n",
    "    out.write(img)\n",
    "\n",
    "cap.release()\n",
    "cv.destroyAllWindows()"
   ]
  },
  {
   "cell_type": "code",
   "execution_count": null,
   "id": "a5f22c2b",
   "metadata": {},
   "outputs": [],
   "source": []
  },
  {
   "cell_type": "code",
   "execution_count": null,
   "id": "bb597b45",
   "metadata": {},
   "outputs": [],
   "source": []
  },
  {
   "cell_type": "code",
   "execution_count": null,
   "id": "55d2b14c",
   "metadata": {},
   "outputs": [],
   "source": []
  }
 ],
 "metadata": {
  "hide_input": false,
  "kernelspec": {
   "display_name": "Python 3 (ipykernel)",
   "language": "python",
   "name": "python3"
  },
  "language_info": {
   "codemirror_mode": {
    "name": "ipython",
    "version": 3
   },
   "file_extension": ".py",
   "mimetype": "text/x-python",
   "name": "python",
   "nbconvert_exporter": "python",
   "pygments_lexer": "ipython3",
   "version": "3.9.7"
  }
 },
 "nbformat": 4,
 "nbformat_minor": 5
}
